{
  "nbformat": 4,
  "nbformat_minor": 0,
  "metadata": {
    "accelerator": "GPU",
    "colab": {
      "name": "Copy of SMALLUNETNEW_presentable.ipynb",
      "provenance": [],
      "collapsed_sections": []
    },
    "kernelspec": {
      "display_name": "Python 3",
      "language": "python",
      "name": "python3"
    },
    "language_info": {
      "codemirror_mode": {
        "name": "ipython",
        "version": 3
      },
      "file_extension": ".py",
      "mimetype": "text/x-python",
      "name": "python",
      "nbconvert_exporter": "python",
      "pygments_lexer": "ipython3",
      "version": "3.6.8"
    }
  },
  "cells": [
    {
      "cell_type": "code",
      "metadata": {
        "id": "PCqotevCzRqI"
      },
      "source": [
        "#import tensorflow as tf\n",
        "#import tensorflow.contrib as tfcontrib\n",
        "#from tensorflow.python.keras import layers\n",
        "#from tensorflow.python.keras import losses\n",
        "#from tensorflow.python.keras.optimizers import Adam\n",
        "#from tensorflow.python.keras import models\n",
        "#from tensorflow.python.keras.layers import Dropout, Lambda , UpSampling2D , merge ,Conv2D ,MaxPooling2D\n",
        "#from tensorflow.python.keras import backend as K\n",
        "import cv2\n",
        "import sys\n",
        "import keras\n",
        "from keras.layers import Input, Dense, Dropout, Activation, Flatten, merge, RepeatVector, Permute, Reshape,concatenate,LeakyReLU,ZeroPadding2D\n",
        "from keras.layers import Conv2D, MaxPooling2D, UpSampling2D ,Conv2DTranspose,Add,Concatenate\n",
        "from keras.layers import LeakyReLU, BatchNormalization\n",
        "from keras.models import Model\n",
        "from keras.optimizers import SGD, RMSprop ,Adam\n",
        "from keras.utils.layer_utils import print_summary\n",
        "from keras.models import model_from_json\n",
        "from keras.callbacks import ModelCheckpoint,EarlyStopping\n",
        "import keras.backend as K\n",
        "from keras.preprocessing.image import ImageDataGenerator, array_to_img, img_to_array, load_img\n",
        "from skimage.transform import resize\n",
        "from sklearn.utils import shuffle\n",
        "import random\n",
        "from keras.preprocessing import image\n"
      ],
      "execution_count": null,
      "outputs": []
    },
    {
      "cell_type": "code",
      "metadata": {
        "id": "tO5PDHldKVBJ"
      },
      "source": [
        "from utils import get_filenames, all_together"
      ],
      "execution_count": null,
      "outputs": []
    },
    {
      "cell_type": "code",
      "metadata": {
        "id": "yHA4v6NtzZ-k"
      },
      "source": [
        "import os\n",
        "import glob\n",
        "import zipfile\n",
        "import functools\n",
        "import numpy as np\n",
        "import matplotlib.pyplot as plt\n",
        "import matplotlib as mpl\n",
        "mpl.rcParams['axes.grid'] = False\n",
        "mpl.rcParams['figure.figsize'] = (12,12)\n",
        "\n",
        "from sklearn.model_selection import train_test_split\n",
        "import matplotlib.image as mpimg\n",
        "#import pandas as pd\n",
        "from PIL import Image\n",
        "BATCH_SIZE = 3\n",
        "seed = 1\n",
        "img_shape = (224, 288, 3)\n",
        "mask_shape = (224, 288, 1)\n",
        "#batch_size = 6\n",
        "#im = 300\n",
        "#ma = \n",
        "\n",
        "epochs = 8\n"
      ],
      "execution_count": null,
      "outputs": []
    },
    {
      "cell_type": "code",
      "metadata": {
        "id": "pCVeLCdB7caV"
      },
      "source": [
        "path = \"/content/drive/My Drive/originals/augmentedartery/\"\n",
        "sys.path.append(path)"
      ],
      "execution_count": null,
      "outputs": []
    },
    {
      "cell_type": "code",
      "metadata": {
        "id": "f8gtZ4xALQds"
      },
      "source": [
        "X_full = []\n",
        "y_full = []\n",
        "X_full,y_full =  get_filenames(path)\n",
        "all_data =  zip(X_full,y_full)\n",
        "X_full.sort()\n",
        "y_full.sort()\n",
        "'''k = 0\n",
        "Xt = np.zeros((len(X_test), 224,288,3), dtype=np.float32)\n",
        "yt = np.zeros((len(y_test), 224, 288, 1), dtype=np.float32)\n",
        "\n",
        "#Loading images as numpy arrays into x_train and y_train\n",
        "for img,label in all_datat :\n",
        "    img = load_img(img, grayscale= False)\n",
        "    x_img = img_to_array(img)\n",
        "    x_img = resize(x_img, img_shape, mode = 'constant', preserve_range = True)\n",
        "    x_img = x_img/255.0\n",
        "    # Load masks\n",
        "    mask = img_to_array(load_img(label, grayscale=True))\n",
        "    \n",
        "    \n",
        "    \n",
        "    mask = resize(mask, mask_shape, mode = 'constant', preserve_range = True)\n",
        "    mask = mask/255.0\n",
        "    # Save images\n",
        "    Xt[k] = x_img\n",
        "    yt[k] = mask\n",
        "    k = k+1\n",
        "print(k) '''"
      ],
      "execution_count": null,
      "outputs": []
    },
    {
      "cell_type": "code",
      "metadata": {
        "id": "TMyKPxIf9Bp-",
        "colab": {
          "base_uri": "https://localhost:8080/",
          "height": 70
        },
        "outputId": "dd1cba48-eb4d-4d25-9b87-b0be06f95d7a"
      },
      "source": [
        "k = 0\n",
        "X = np.zeros((len(X_full), 224,288,3), dtype=np.float32)\n",
        "y = np.zeros((len(y_full), 224, 288, 1), dtype=np.float32)\n",
        "\n",
        "#Loading images as numpy arrays into x_train and y_train\n",
        "for img,label in all_data :\n",
        "    img = load_img(img, grayscale= False)\n",
        "    x_img = img_to_array(img)\n",
        "    x_img = resize(x_img, img_shape, mode = 'constant', preserve_range = True)\n",
        "    x_img = x_img/255.0\n",
        "    # Load masks\n",
        "    mask = img_to_array(load_img(label, grayscale=True))\n",
        "    \n",
        "    \n",
        "    \n",
        "    mask = resize(mask, mask_shape, mode = 'constant', preserve_range = True)\n",
        "    mask = mask/255.0\n",
        "    # Save images\n",
        "    X[k] = x_img\n",
        "    y[k] = mask\n",
        "    k = k+1\n",
        "print(k) \n",
        "X_train,y_train,X_test,y_test,X_val,y_val = all_together(X,y)\n",
        "X_train , y_train = shuffle(X_train , y_train)\n",
        "x_genp,y_genp,x_valid_genp,y_valid_genp,x_test_genp,y_test_genp = generators(X_train, X_test, X_val, y_train, y_test, y_val)\n",
        "train_generatorp,val_generatorp,test_generatorp = combinepat(x_genp,x_valid_genp,x_test_genp,y_genp,y_valid_genp,y_test_genp)\n"
      ],
      "execution_count": null,
      "outputs": [
        {
          "output_type": "stream",
          "text": [
            "/usr/local/lib/python3.6/dist-packages/keras_preprocessing/image/utils.py:107: UserWarning: grayscale is deprecated. Please use color_mode = \"grayscale\"\n",
            "  warnings.warn('grayscale is deprecated. Please use '\n"
          ],
          "name": "stderr"
        },
        {
          "output_type": "stream",
          "text": [
            "369\n"
          ],
          "name": "stdout"
        }
      ]
    },
    {
      "cell_type": "code",
      "metadata": {
        "id": "uJAyLa1OYNlq"
      },
      "source": [
        "scores,modelp = run_modelpat(train_generatorp,test_generatorp,val_generatorp)\n"
      ],
      "execution_count": null,
      "outputs": []
    }
  ]
}